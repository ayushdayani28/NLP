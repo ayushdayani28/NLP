{
 "cells": [
  {
   "cell_type": "code",
   "execution_count": 1,
   "id": "cf03ef39",
   "metadata": {},
   "outputs": [],
   "source": [
    "# all neccessary libraries\n",
    "from nltk.corpus import stopwords\n",
    "#stopwords : a an the etc.\n",
    "from nltk.cluster.util import cosine_distance\n",
    "#used to build similarity matrix\n",
    "import numpy as np\n",
    "import networkx as nx\n",
    "#library to study graphs and networks"
   ]
  },
  {
   "cell_type": "code",
   "execution_count": 2,
   "id": "41434c51",
   "metadata": {},
   "outputs": [],
   "source": [
    "import nltk"
   ]
  },
  {
   "cell_type": "code",
   "execution_count": 3,
   "id": "5100db75",
   "metadata": {},
   "outputs": [
    {
     "name": "stderr",
     "output_type": "stream",
     "text": [
      "[nltk_data] Downloading package stopwords to\n",
      "[nltk_data]     /Users/ad_demon/nltk_data...\n",
      "[nltk_data]   Package stopwords is already up-to-date!\n"
     ]
    },
    {
     "data": {
      "text/plain": [
       "True"
      ]
     },
     "execution_count": 3,
     "metadata": {},
     "output_type": "execute_result"
    }
   ],
   "source": [
    "nltk.download('stopwords')"
   ]
  },
  {
   "cell_type": "code",
   "execution_count": 4,
   "id": "874af976",
   "metadata": {},
   "outputs": [],
   "source": [
    "# Generate sentences from text\n",
    "def read_text(file_name):\n",
    "    file = open(file_name, \"r\")\n",
    "    filedata = file.readlines()\n",
    "#     print(filedata)\n",
    "    article = filedata[0].split(\". \")\n",
    "#     print(article)\n",
    "    sentences = []\n",
    "    for sentence in article:\n",
    "#         print(sentence)\n",
    "        sentences.append(sentence.replace(\"[^a-zA-Z]\", \" \").split(\" \"))\n",
    "        #[^a-zA-Z] means any character that is not in a to z or A to Z\n",
    "    sentences.pop()\n",
    "    return sentences"
   ]
  },
  {
   "cell_type": "code",
   "execution_count": 5,
   "id": "45dfb027",
   "metadata": {},
   "outputs": [],
   "source": [
    "def sentence_similarity(sent1, sent2, stopwords=None):\n",
    "#     print(sent1,'s1', sent2, 's2')\n",
    "    if stopwords is None:\n",
    "        stopwords = []\n",
    " \n",
    "    sent1 = [w.lower() for w in sent1]\n",
    "    sent2 = [w.lower() for w in sent2]\n",
    "#     print(len(sent1)+len(sent2))\n",
    "    all_words = list(set(sent1 + sent2))\n",
    "#     print(len(all_words))\n",
    "    # forming list of unique words from the 2 lists\n",
    "    vector1 = [0] * len(all_words)\n",
    "    vector2 = [0] * len(all_words)\n",
    "    # build the vector for the first sentence\n",
    "    for w in sent1:\n",
    "        if w in stopwords:\n",
    "            continue\n",
    "        vector1[all_words.index(w)] += 1\n",
    "    # removing meaningless words like a, an , the by keeping there vector value 0\n",
    "    #we are increasing vector value of non stop words\n",
    "    # build the vector for the second sentence\n",
    "    for w in sent2:\n",
    "        if w in stopwords:\n",
    "            continue\n",
    "        vector2[all_words.index(w)] += 1\n",
    " \n",
    "    return 1 - cosine_distance(vector1, vector2)"
   ]
  },
  {
   "cell_type": "code",
   "execution_count": 6,
   "id": "80a20f41",
   "metadata": {},
   "outputs": [],
   "source": [
    "#Building similarity matrix from the sentences\n",
    "def build_similarity_matrix(sentences, stop_words):\n",
    "    # Create an empty similarity matrix\n",
    "    similarity_matrix = np.zeros((len(sentences), len(sentences)))\n",
    "    # zero matrix\n",
    "    for idx1 in range(len(sentences)):\n",
    "        for idx2 in range(len(sentences)):\n",
    "            if idx1 == idx2: #ignore if both are same sentences\n",
    "                continue \n",
    "            similarity_matrix[idx1][idx2] = sentence_similarity(sentences[idx1], sentences[idx2], stop_words)\n",
    "    return similarity_matrix"
   ]
  },
  {
   "cell_type": "code",
   "execution_count": 9,
   "id": "15f0bd56",
   "metadata": {},
   "outputs": [],
   "source": [
    "def generate_summary(file_name, top_n=5):\n",
    "    stop_words = stopwords.words('english')\n",
    "    summarize_text = []\n",
    "#     print(len(stop_words))\n",
    "    # Step 1 - Read text and tokenize\n",
    "    sentences =  read_text(file_name)\n",
    "    print(len(sentences))\n",
    "    # Step 2 - Generate Similary Martix across sentences\n",
    "    sentence_similarity_matrix = build_similarity_matrix(sentences, stop_words)\n",
    "#     print(sentence_similarity_matrix)\n",
    "    # Step 3 - Rank sentences in similarity martix\n",
    "    sentence_similarity_graph = nx.from_numpy_array(sentence_similarity_matrix)\n",
    "    #nx.from_numpy_array returns a graph from a 2d numpy array\n",
    "#     print(sentence_similarity_graph)\n",
    "    scores = nx.pagerank(sentence_similarity_graph)\n",
    "    print(scores)\n",
    "    # Step 4 - Sort the rank and pick top sentences\n",
    "    ranked_sentence = sorted(((scores[i],s) for i,s in enumerate(sentences)), reverse=True)    \n",
    "    print(\"Indexes of top ranked_sentence order are \", ranked_sentence)\n",
    "    for i in range(top_n):\n",
    "        summarize_text.append(\" \".join(ranked_sentence[i][1]))\n",
    "        # Step 5 - Offcourse, output the summarize text\n",
    "    print('\\n\\n')\n",
    "    print(\"Summarize Text: \\n\", \". \".join(summarize_text))"
   ]
  },
  {
   "cell_type": "code",
   "execution_count": 10,
   "id": "7d19ab8b",
   "metadata": {},
   "outputs": [
    {
     "name": "stdout",
     "output_type": "stream",
     "text": [
      "26\n",
      "{0: 0.07499550456599864, 1: 0.07928056792388954, 2: 0.015150679603697266, 3: 0.053943336509824684, 4: 0.04155487734551386, 5: 0.031395096945447454, 6: 0.006172839506172842, 7: 0.05036133172428871, 8: 0.010181205690460642, 9: 0.025769768504439548, 10: 0.04672195035383562, 11: 0.027713065149188084, 12: 0.06558775623320807, 13: 0.028957773909222998, 14: 0.059085613808469634, 15: 0.053126786391878754, 16: 0.02700767821333785, 17: 0.037839369849017715, 18: 0.04982245853188474, 19: 0.06826209136314952, 20: 0.03362527416403969, 21: 0.039010769463216535, 22: 0.006172839506172842, 23: 0.01689889937618024, 24: 0.026980737557647853, 25: 0.02438172780981673}\n",
      "Indexes of top ranked_sentence order are  [(0.07928056792388954, ['Modi', 'was', 'the', 'chief', 'minister', 'of', 'Gujarat', 'from', '2001', 'to', '2014', 'and', 'is', 'a', 'Member', 'of', 'Parliament', 'from', 'Varanasi']), (0.07499550456599864, ['Narendra', 'Damodardas', 'Modi', '(', 'born', '17', 'September', '1950)', 'is', 'an', 'Indian', 'politician', 'serving', 'as', 'the', '14th', 'and', 'current', 'prime', 'minister', 'of', 'India', 'since', '2014']), (0.06826209136314952, ['Modi', 'led', 'the', 'BJP', 'in', 'the', '2014', 'general', 'election', 'which', 'gave', 'the', 'party', 'a', 'majority', 'in', 'the', 'Indian', 'lower', 'house', 'of', 'parliament,', 'the', 'Lok', 'Sabha,', 'the', 'first', 'time', 'for', 'any', 'single', 'party', 'since', '1984']), (0.06558775623320807, ['After', 'the', 'state', 'of', 'emergency', 'declared', 'by', 'Indian', 'prime', 'minister', 'Indira', 'Gandhi', 'in', '1975,', 'Modi', 'went', 'into', 'hiding']), (0.059085613808469634, ['Modi', 'was', 'appointed', 'Chief', 'Minister', 'of', 'Gujarat', 'in', '2001', 'due', 'to', 'Keshubhai', \"Patel's\", 'failing', 'health', 'and', 'poor', 'public', 'image', 'following', 'the', 'earthquake', 'in', 'Bhuj']), (0.053943336509824684, ['He', 'is', 'the', 'first', 'prime', 'minister', 'to', 'have', 'been', 'born', 'after', \"India's\", 'independence', 'in', '1947', 'and', 'the', 'second', 'prime', 'minister', 'not', 'belonging', 'to', 'the', 'Indian', 'National', 'Congress', 'to', 'have', 'won', 'two', 'consecutive', 'majorities', 'in', 'the', 'Lok', 'Sabha', 'or', 'lower', 'house', 'of', 'Indian', 'parliament']), (0.053126786391878754, ['Modi', 'was', 'elected', 'to', 'the', 'legislative', 'assembly', 'soon', 'after']), (0.05036133172428871, ['At', 'age', '18,', 'Modi', 'was', 'married', 'to', 'Jashodaben', 'Chimanlal', 'Modi,', 'whom', 'he', 'abandoned', 'soon', 'after']), (0.04982245853188474, ['A', 'Supreme', 'Court', 'of', 'India-appointed', 'Special', 'Investigation', 'Team', 'found', 'no', 'evidence', 'to', 'initiate', 'prosecution', 'proceedings', 'against', 'Modi', 'personally.[d]', 'While', 'his', 'policies', 'as', 'chief', 'minister—credited', 'with', 'encouraging', 'economic', 'growth—has', 'received', 'praise,', 'his', 'administration', 'has', 'been', 'criticized', 'for', 'failing', 'to', 'significantly', 'improve', 'health,', 'poverty,', 'and', 'education', 'indices', 'in', 'the', 'state']), (0.04672195035383562, ['Modi', 'has', 'asserted', 'he', 'had', 'traveled', 'in', 'northern', 'India', 'for', 'two', 'years', 'after', 'leaving', 'his', 'parental', 'home,', 'visiting', 'a', 'number', 'of', 'religious', 'centers,', 'but', 'few', 'details', 'of', 'his', 'travels', 'have', 'emerged']), (0.04155487734551386, ['Born', 'and', 'raised', 'in', 'Vadnagar,', 'a', 'small', 'town', 'in', 'northeastern', 'Gujarat,', 'Modi', 'completed', 'his', 'secondary', 'education', 'there']), (0.039010769463216535, ['Modi', 'has', 'attempted', 'to', 'improve', 'efficiency', 'in', 'the', 'bureaucracy;', 'he', 'has', 'centralized', 'power', 'by', 'abolishing', 'the', 'Planning', 'Commission']), (0.037839369849017715, ['The', 'Supreme', 'Court', 'remarked', 'that', 'Narendra', 'Modi', 'was', 'like', 'a', 'Modern-day', 'Nero,', 'looking', 'the', 'other', 'way', 'as', 'innocent', 'women', 'and', 'children', 'were', 'burning']), (0.03362527416403969, [\"Modi's\", 'administration', 'has', 'tried', 'to', 'raise', 'foreign', 'direct', 'investment', 'in', 'the', 'Indian', 'economy', 'and', 'reduced', 'spending', 'on', 'healthcare', 'and', 'social', 'welfare', 'programs']), (0.031395096945447454, ['He', 'was', 'introduced', 'to', 'the', 'RSS', 'at', 'age', 'eight']), (0.028957773909222998, ['The', 'RSS', 'assigned', 'him', 'to', 'the', 'BJP', 'in', '1985', 'and', 'he', 'held', 'several', 'positions', 'within', 'the', 'party', 'hierarchy', 'until', '2001,', 'rising', 'to', 'the', 'rank', 'of', 'general', 'secretary']), (0.027713065149188084, ['Upon', 'his', 'return', 'to', 'Gujarat', 'in', '1971,', 'he', 'became', 'a', 'full-time', 'worker', 'for', 'the', 'RSS']), (0.02700767821333785, ['His', 'administration', 'has', 'been', 'considered', 'complicit', 'in', 'the', '2002', 'Gujarat', 'riots', 'in', 'which', '1044', 'people', 'were', 'killed,', 'three-quarters', 'of', 'whom', 'were', 'Muslim,', 'or', 'otherwise', 'criticized', 'for', 'its', 'management', 'of', 'the', 'crisis']), (0.026980737557647853, ['Following', 'his', \"party's\", 'victory', 'in', 'the', '2019', 'general', 'election,', 'his', 'administration', 'revoked', 'the', 'special', 'status', 'of', 'Jammu', 'and', 'Kashmir']), (0.025769768504439548, ['He', 'first', 'publicly', 'acknowledged', 'her', 'as', 'his', 'wife', 'more', 'than', 'four', 'decades', 'later', 'when', 'required', 'to', 'do', 'so', 'by', 'Indian', 'law,', 'but', 'has', 'made', 'no', 'contact', 'with', 'her', 'since']), (0.02438172780981673, ['His', 'administration', 'also', 'introduced', 'the', 'Citizenship', 'Amendment', 'Act,', 'which', 'resulted', 'in', 'widespread', 'protests', 'across', 'the', 'country']), (0.01689889937618024, ['Under', \"Modi's\", 'tenure,', 'India', 'has', 'experienced', 'democratic', 'backsliding']), (0.015150679603697266, ['He', 'is', 'a', 'member', 'of', 'the', 'Bharatiya', 'Janata', 'Party', '(BJP)', 'and', 'of', 'the', 'Rashtriya', 'Swayamsevak', 'Sangh', '(RSS),', 'a', 'right-wing', 'Hindu', 'nationalist', 'paramilitary', 'volunteer', 'organization']), (0.010181205690460642, ['He', 'left', 'his', 'parental', 'home', 'where', 'she', 'had', 'come', 'to', 'live']), (0.006172839506172842, ['He', 'has', 'drawn', 'attention', 'to', 'having', 'to', 'work', 'as', 'a', 'child', 'in', 'his', \"father's\", 'tea', 'stall', 'on', 'the', 'Vadnagar', 'railway', 'station', 'platform,', 'a', 'description', 'that', 'has', 'not', 'been', 'reliably', 'corroborated']), (0.006172839506172842, ['He', 'began', 'a', 'high-profile', 'sanitation', 'campaign,', 'initiated', 'a', 'controversial', 'demonetization', 'of', 'high-denomination', 'banknotes,', 'and', 'weakened', 'or', 'abolished', 'environmental', 'and', 'labor', 'laws'])]\n",
      "\n",
      "\n",
      "\n",
      "Summarize Text: \n",
      " Modi was the chief minister of Gujarat from 2001 to 2014 and is a Member of Parliament from Varanasi. Narendra Damodardas Modi ( born 17 September 1950) is an Indian politician serving as the 14th and current prime minister of India since 2014. Modi led the BJP in the 2014 general election which gave the party a majority in the Indian lower house of parliament, the Lok Sabha, the first time for any single party since 1984. After the state of emergency declared by Indian prime minister Indira Gandhi in 1975, Modi went into hiding. Modi was appointed Chief Minister of Gujarat in 2001 due to Keshubhai Patel's failing health and poor public image following the earthquake in Bhuj. He is the first prime minister to have been born after India's independence in 1947 and the second prime minister not belonging to the Indian National Congress to have won two consecutive majorities in the Lok Sabha or lower house of Indian parliament. Modi was elected to the legislative assembly soon after. At age 18, Modi was married to Jashodaben Chimanlal Modi, whom he abandoned soon after. A Supreme Court of India-appointed Special Investigation Team found no evidence to initiate prosecution proceedings against Modi personally.[d] While his policies as chief minister—credited with encouraging economic growth—has received praise, his administration has been criticized for failing to significantly improve health, poverty, and education indices in the state. Modi has asserted he had traveled in northern India for two years after leaving his parental home, visiting a number of religious centers, but few details of his travels have emerged\n"
     ]
    }
   ],
   "source": [
    "generate_summary(\"sample.txt\", 10)"
   ]
  },
  {
   "cell_type": "code",
   "execution_count": null,
   "id": "8bb5bc9a",
   "metadata": {},
   "outputs": [],
   "source": []
  }
 ],
 "metadata": {
  "kernelspec": {
   "display_name": "Python 3.9.7 64-bit ('base': conda)",
   "language": "python",
   "name": "python397jvsc74a57bd0faeac7ee8c32ce093b86f5df3c885ac77123d03694646cd33b07113050ac6c21"
  },
  "language_info": {
   "codemirror_mode": {
    "name": "ipython",
    "version": 3
   },
   "file_extension": ".py",
   "mimetype": "text/x-python",
   "name": "python",
   "nbconvert_exporter": "python",
   "pygments_lexer": "ipython3",
   "version": "3.9.7"
  }
 },
 "nbformat": 4,
 "nbformat_minor": 5
}
